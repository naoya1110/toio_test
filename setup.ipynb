{
 "cells": [
  {
   "cell_type": "code",
   "execution_count": 1,
   "metadata": {},
   "outputs": [
    {
     "name": "stdout",
     "output_type": "stream",
     "text": [
      "Collecting setuptools\n",
      "  Downloading setuptools-75.6.0-py3-none-any.whl.metadata (6.7 kB)\n",
      "Downloading setuptools-75.6.0-py3-none-any.whl (1.2 MB)\n",
      "   ---------------------------------------- 0.0/1.2 MB ? eta -:--:--\n",
      "   ---------------------------------- ----- 1.0/1.2 MB 16.7 MB/s eta 0:00:01\n",
      "   ---------------------------------------- 1.2/1.2 MB 3.4 MB/s eta 0:00:00\n",
      "Installing collected packages: setuptools\n",
      "Successfully installed setuptools-75.6.0\n"
     ]
    }
   ],
   "source": [
    "! python -m pip install setuptools --upgrade"
   ]
  },
  {
   "cell_type": "code",
   "execution_count": 2,
   "metadata": {},
   "outputs": [
    {
     "name": "stdout",
     "output_type": "stream",
     "text": [
      "Collecting typing-extensions\n",
      "  Using cached typing_extensions-4.12.2-py3-none-any.whl.metadata (3.0 kB)\n",
      "Using cached typing_extensions-4.12.2-py3-none-any.whl (37 kB)\n",
      "Installing collected packages: typing-extensions\n",
      "Successfully installed typing-extensions-4.12.2\n"
     ]
    }
   ],
   "source": [
    "! python -m pip install typing-extensions"
   ]
  },
  {
   "cell_type": "code",
   "execution_count": 3,
   "metadata": {},
   "outputs": [
    {
     "name": "stdout",
     "output_type": "stream",
     "text": [
      "Collecting bleak\n",
      "  Downloading bleak-0.22.3-py3-none-any.whl.metadata (5.4 kB)\n",
      "Collecting winrt-Windows.Devices.Bluetooth<3,>=2 (from bleak)\n",
      "  Downloading winrt_Windows.Devices.Bluetooth-2.3.0-cp312-cp312-win_amd64.whl.metadata (1.6 kB)\n",
      "Collecting winrt-Windows.Devices.Bluetooth.Advertisement<3,>=2 (from bleak)\n",
      "  Downloading winrt_Windows.Devices.Bluetooth.Advertisement-2.3.0-cp312-cp312-win_amd64.whl.metadata (1.3 kB)\n",
      "Collecting winrt-Windows.Devices.Bluetooth.GenericAttributeProfile<3,>=2 (from bleak)\n",
      "  Downloading winrt_Windows.Devices.Bluetooth.GenericAttributeProfile-2.3.0-cp312-cp312-win_amd64.whl.metadata (1.5 kB)\n",
      "Collecting winrt-Windows.Devices.Enumeration<3,>=2 (from bleak)\n",
      "  Downloading winrt_Windows.Devices.Enumeration-2.3.0-cp312-cp312-win_amd64.whl.metadata (1.5 kB)\n",
      "Collecting winrt-Windows.Foundation<3,>=2 (from bleak)\n",
      "  Downloading winrt_Windows.Foundation-2.3.0-cp312-cp312-win_amd64.whl.metadata (1.0 kB)\n",
      "Collecting winrt-Windows.Foundation.Collections<3,>=2 (from bleak)\n",
      "  Downloading winrt_Windows.Foundation.Collections-2.3.0-cp312-cp312-win_amd64.whl.metadata (1.1 kB)\n",
      "Collecting winrt-Windows.Storage.Streams<3,>=2 (from bleak)\n",
      "  Downloading winrt_Windows.Storage.Streams-2.3.0-cp312-cp312-win_amd64.whl.metadata (1.3 kB)\n",
      "Collecting winrt-runtime<3,>=2 (from bleak)\n",
      "  Downloading winrt_runtime-2.3.0-cp312-cp312-win_amd64.whl.metadata (733 bytes)\n",
      "Downloading bleak-0.22.3-py3-none-any.whl (142 kB)\n",
      "Downloading winrt_runtime-2.3.0-cp312-cp312-win_amd64.whl (213 kB)\n",
      "Downloading winrt_Windows.Devices.Bluetooth-2.3.0-cp312-cp312-win_amd64.whl (104 kB)\n",
      "Downloading winrt_Windows.Devices.Bluetooth.Advertisement-2.3.0-cp312-cp312-win_amd64.whl (83 kB)\n",
      "Downloading winrt_Windows.Devices.Bluetooth.GenericAttributeProfile-2.3.0-cp312-cp312-win_amd64.whl (179 kB)\n",
      "Downloading winrt_Windows.Devices.Enumeration-2.3.0-cp312-cp312-win_amd64.whl (132 kB)\n",
      "Downloading winrt_Windows.Foundation-2.3.0-cp312-cp312-win_amd64.whl (100 kB)\n",
      "Downloading winrt_Windows.Foundation.Collections-2.3.0-cp312-cp312-win_amd64.whl (60 kB)\n",
      "Downloading winrt_Windows.Storage.Streams-2.3.0-cp312-cp312-win_amd64.whl (108 kB)\n",
      "Installing collected packages: winrt-runtime, winrt-Windows.Storage.Streams, winrt-Windows.Foundation.Collections, winrt-Windows.Foundation, winrt-Windows.Devices.Enumeration, winrt-Windows.Devices.Bluetooth.GenericAttributeProfile, winrt-Windows.Devices.Bluetooth.Advertisement, winrt-Windows.Devices.Bluetooth, bleak\n",
      "Successfully installed bleak-0.22.3 winrt-Windows.Devices.Bluetooth-2.3.0 winrt-Windows.Devices.Bluetooth.Advertisement-2.3.0 winrt-Windows.Devices.Bluetooth.GenericAttributeProfile-2.3.0 winrt-Windows.Devices.Enumeration-2.3.0 winrt-Windows.Foundation-2.3.0 winrt-Windows.Foundation.Collections-2.3.0 winrt-Windows.Storage.Streams-2.3.0 winrt-runtime-2.3.0\n"
     ]
    }
   ],
   "source": [
    "! python -m pip install bleak"
   ]
  },
  {
   "cell_type": "code",
   "execution_count": 6,
   "metadata": {},
   "outputs": [
    {
     "name": "stdout",
     "output_type": "stream",
     "text": [
      "Collecting toio-py\n",
      "  Downloading toio_py-1.1.0-py3-none-any.whl.metadata (14 kB)\n",
      "Requirement already satisfied: bleak>=0.22.1 in c:\\users\\iwamoto\\workspace\\research\\toio_test\\.venv\\lib\\site-packages (from toio-py) (0.22.3)\n",
      "Collecting setuptools<70.0.0,>=69.5.1 (from toio-py)\n",
      "  Downloading setuptools-69.5.1-py3-none-any.whl.metadata (6.2 kB)\n",
      "Requirement already satisfied: typing-extensions<5.0.0,>=4.10.0 in c:\\users\\iwamoto\\workspace\\research\\toio_test\\.venv\\lib\\site-packages (from toio-py) (4.12.2)\n",
      "Requirement already satisfied: winrt-Windows.Devices.Bluetooth<3,>=2 in c:\\users\\iwamoto\\workspace\\research\\toio_test\\.venv\\lib\\site-packages (from bleak>=0.22.1->toio-py) (2.3.0)\n",
      "Requirement already satisfied: winrt-Windows.Devices.Bluetooth.Advertisement<3,>=2 in c:\\users\\iwamoto\\workspace\\research\\toio_test\\.venv\\lib\\site-packages (from bleak>=0.22.1->toio-py) (2.3.0)\n",
      "Requirement already satisfied: winrt-Windows.Devices.Bluetooth.GenericAttributeProfile<3,>=2 in c:\\users\\iwamoto\\workspace\\research\\toio_test\\.venv\\lib\\site-packages (from bleak>=0.22.1->toio-py) (2.3.0)\n",
      "Requirement already satisfied: winrt-Windows.Devices.Enumeration<3,>=2 in c:\\users\\iwamoto\\workspace\\research\\toio_test\\.venv\\lib\\site-packages (from bleak>=0.22.1->toio-py) (2.3.0)\n",
      "Requirement already satisfied: winrt-Windows.Foundation<3,>=2 in c:\\users\\iwamoto\\workspace\\research\\toio_test\\.venv\\lib\\site-packages (from bleak>=0.22.1->toio-py) (2.3.0)\n",
      "Requirement already satisfied: winrt-Windows.Foundation.Collections<3,>=2 in c:\\users\\iwamoto\\workspace\\research\\toio_test\\.venv\\lib\\site-packages (from bleak>=0.22.1->toio-py) (2.3.0)\n",
      "Requirement already satisfied: winrt-Windows.Storage.Streams<3,>=2 in c:\\users\\iwamoto\\workspace\\research\\toio_test\\.venv\\lib\\site-packages (from bleak>=0.22.1->toio-py) (2.3.0)\n",
      "Requirement already satisfied: winrt-runtime<3,>=2 in c:\\users\\iwamoto\\workspace\\research\\toio_test\\.venv\\lib\\site-packages (from bleak>=0.22.1->toio-py) (2.3.0)\n",
      "Downloading toio_py-1.1.0-py3-none-any.whl (75 kB)\n",
      "Downloading setuptools-69.5.1-py3-none-any.whl (894 kB)\n",
      "   ---------------------------------------- 0.0/894.6 kB ? eta -:--:--\n",
      "   ---------------------------------- ---- 786.4/894.6 kB 35.0 MB/s eta 0:00:01\n",
      "   ---------------------------------------- 894.6/894.6 kB 2.9 MB/s eta 0:00:00\n",
      "Installing collected packages: setuptools, toio-py\n",
      "  Attempting uninstall: setuptools\n",
      "    Found existing installation: setuptools 75.6.0\n",
      "    Uninstalling setuptools-75.6.0:\n",
      "      Successfully uninstalled setuptools-75.6.0\n",
      "Successfully installed setuptools-69.5.1 toio-py-1.1.0\n"
     ]
    }
   ],
   "source": [
    "! python -m pip install toio-py --upgrade"
   ]
  },
  {
   "cell_type": "code",
   "execution_count": 4,
   "metadata": {},
   "outputs": [
    {
     "name": "stdout",
     "output_type": "stream",
     "text": [
      "Requirement already satisfied: ipykernel in c:\\users\\iwamoto\\workspace\\research\\toio_test\\.venv\\lib\\site-packages (6.29.5)\n",
      "Requirement already satisfied: comm>=0.1.1 in c:\\users\\iwamoto\\workspace\\research\\toio_test\\.venv\\lib\\site-packages (from ipykernel) (0.2.2)\n",
      "Requirement already satisfied: debugpy>=1.6.5 in c:\\users\\iwamoto\\workspace\\research\\toio_test\\.venv\\lib\\site-packages (from ipykernel) (1.8.11)\n",
      "Requirement already satisfied: ipython>=7.23.1 in c:\\users\\iwamoto\\workspace\\research\\toio_test\\.venv\\lib\\site-packages (from ipykernel) (8.31.0)\n",
      "Requirement already satisfied: jupyter-client>=6.1.12 in c:\\users\\iwamoto\\workspace\\research\\toio_test\\.venv\\lib\\site-packages (from ipykernel) (8.6.3)\n",
      "Requirement already satisfied: jupyter-core!=5.0.*,>=4.12 in c:\\users\\iwamoto\\workspace\\research\\toio_test\\.venv\\lib\\site-packages (from ipykernel) (5.7.2)\n",
      "Requirement already satisfied: matplotlib-inline>=0.1 in c:\\users\\iwamoto\\workspace\\research\\toio_test\\.venv\\lib\\site-packages (from ipykernel) (0.1.7)\n",
      "Requirement already satisfied: nest-asyncio in c:\\users\\iwamoto\\workspace\\research\\toio_test\\.venv\\lib\\site-packages (from ipykernel) (1.6.0)\n",
      "Requirement already satisfied: packaging in c:\\users\\iwamoto\\workspace\\research\\toio_test\\.venv\\lib\\site-packages (from ipykernel) (24.2)\n",
      "Requirement already satisfied: psutil in c:\\users\\iwamoto\\workspace\\research\\toio_test\\.venv\\lib\\site-packages (from ipykernel) (6.1.1)\n",
      "Requirement already satisfied: pyzmq>=24 in c:\\users\\iwamoto\\workspace\\research\\toio_test\\.venv\\lib\\site-packages (from ipykernel) (26.2.0)\n",
      "Requirement already satisfied: tornado>=6.1 in c:\\users\\iwamoto\\workspace\\research\\toio_test\\.venv\\lib\\site-packages (from ipykernel) (6.4.2)\n",
      "Requirement already satisfied: traitlets>=5.4.0 in c:\\users\\iwamoto\\workspace\\research\\toio_test\\.venv\\lib\\site-packages (from ipykernel) (5.14.3)\n",
      "Requirement already satisfied: colorama in c:\\users\\iwamoto\\workspace\\research\\toio_test\\.venv\\lib\\site-packages (from ipython>=7.23.1->ipykernel) (0.4.6)\n",
      "Requirement already satisfied: decorator in c:\\users\\iwamoto\\workspace\\research\\toio_test\\.venv\\lib\\site-packages (from ipython>=7.23.1->ipykernel) (5.1.1)\n",
      "Requirement already satisfied: jedi>=0.16 in c:\\users\\iwamoto\\workspace\\research\\toio_test\\.venv\\lib\\site-packages (from ipython>=7.23.1->ipykernel) (0.19.2)\n",
      "Requirement already satisfied: prompt_toolkit<3.1.0,>=3.0.41 in c:\\users\\iwamoto\\workspace\\research\\toio_test\\.venv\\lib\\site-packages (from ipython>=7.23.1->ipykernel) (3.0.48)\n",
      "Requirement already satisfied: pygments>=2.4.0 in c:\\users\\iwamoto\\workspace\\research\\toio_test\\.venv\\lib\\site-packages (from ipython>=7.23.1->ipykernel) (2.18.0)\n",
      "Requirement already satisfied: stack_data in c:\\users\\iwamoto\\workspace\\research\\toio_test\\.venv\\lib\\site-packages (from ipython>=7.23.1->ipykernel) (0.6.3)\n",
      "Requirement already satisfied: python-dateutil>=2.8.2 in c:\\users\\iwamoto\\workspace\\research\\toio_test\\.venv\\lib\\site-packages (from jupyter-client>=6.1.12->ipykernel) (2.9.0.post0)\n",
      "Requirement already satisfied: platformdirs>=2.5 in c:\\users\\iwamoto\\workspace\\research\\toio_test\\.venv\\lib\\site-packages (from jupyter-core!=5.0.*,>=4.12->ipykernel) (4.3.6)\n",
      "Requirement already satisfied: pywin32>=300 in c:\\users\\iwamoto\\workspace\\research\\toio_test\\.venv\\lib\\site-packages (from jupyter-core!=5.0.*,>=4.12->ipykernel) (308)\n",
      "Requirement already satisfied: parso<0.9.0,>=0.8.4 in c:\\users\\iwamoto\\workspace\\research\\toio_test\\.venv\\lib\\site-packages (from jedi>=0.16->ipython>=7.23.1->ipykernel) (0.8.4)\n",
      "Requirement already satisfied: wcwidth in c:\\users\\iwamoto\\workspace\\research\\toio_test\\.venv\\lib\\site-packages (from prompt_toolkit<3.1.0,>=3.0.41->ipython>=7.23.1->ipykernel) (0.2.13)\n",
      "Requirement already satisfied: six>=1.5 in c:\\users\\iwamoto\\workspace\\research\\toio_test\\.venv\\lib\\site-packages (from python-dateutil>=2.8.2->jupyter-client>=6.1.12->ipykernel) (1.17.0)\n",
      "Requirement already satisfied: executing>=1.2.0 in c:\\users\\iwamoto\\workspace\\research\\toio_test\\.venv\\lib\\site-packages (from stack_data->ipython>=7.23.1->ipykernel) (2.1.0)\n",
      "Requirement already satisfied: asttokens>=2.1.0 in c:\\users\\iwamoto\\workspace\\research\\toio_test\\.venv\\lib\\site-packages (from stack_data->ipython>=7.23.1->ipykernel) (3.0.0)\n",
      "Requirement already satisfied: pure-eval in c:\\users\\iwamoto\\workspace\\research\\toio_test\\.venv\\lib\\site-packages (from stack_data->ipython>=7.23.1->ipykernel) (0.2.3)\n"
     ]
    }
   ],
   "source": [
    "! python -m pip install ipykernel"
   ]
  },
  {
   "cell_type": "code",
   "execution_count": 7,
   "metadata": {},
   "outputs": [
    {
     "name": "stdout",
     "output_type": "stream",
     "text": [
      "ok\n"
     ]
    }
   ],
   "source": [
    "! python -c \"import toio.scanner; print('ok')\""
   ]
  }
 ],
 "metadata": {
  "kernelspec": {
   "display_name": ".venv",
   "language": "python",
   "name": "python3"
  },
  "language_info": {
   "codemirror_mode": {
    "name": "ipython",
    "version": 3
   },
   "file_extension": ".py",
   "mimetype": "text/x-python",
   "name": "python",
   "nbconvert_exporter": "python",
   "pygments_lexer": "ipython3",
   "version": "3.12.8"
  }
 },
 "nbformat": 4,
 "nbformat_minor": 2
}
